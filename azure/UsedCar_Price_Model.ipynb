{
  "cells": [
    {
      "cell_type": "markdown",
      "source": [
        "## Building and storing the file as pickle file"
      ],
      "metadata": {
        "id": "3VBbPBFRCv2E"
      }
    },
    {
      "cell_type": "code",
      "source": [
        "# Not required now\n",
        "#!pip install -U scikit-learn==0.24"
      ],
      "outputs": [],
      "execution_count": 36,
      "metadata": {
        "jupyter": {
          "source_hidden": false,
          "outputs_hidden": false
        },
        "nteract": {
          "transient": {
            "deleting": false
          }
        },
        "gather": {
          "logged": 1732152518689
        }
      }
    },
    {
      "cell_type": "code",
      "source": [
        "import pandas as pd\n",
        "import numpy as np\n",
        "from sklearn.model_selection import train_test_split\n",
        "from sklearn.metrics import r2_score, mean_squared_error\n",
        "from sklearn.compose import ColumnTransformer\n",
        "from sklearn.pipeline import Pipeline\n",
        "from sklearn.impute import SimpleImputer\n",
        "from sklearn.preprocessing import StandardScaler, OneHotEncoder\n",
        "from sklearn.ensemble import GradientBoostingRegressor, AdaBoostRegressor\n",
        "import pprint\n",
        "import os"
      ],
      "outputs": [],
      "execution_count": 37,
      "metadata": {
        "id": "c9gF4R9gFds_",
        "gather": {
          "logged": 1732152518791
        }
      }
    },
    {
      "cell_type": "code",
      "source": [
        "import xgboost\n",
        "xgboost.__version__"
      ],
      "outputs": [
        {
          "output_type": "execute_result",
          "execution_count": 38,
          "data": {
            "text/plain": "'1.5.2'"
          },
          "metadata": {}
        }
      ],
      "execution_count": 38,
      "metadata": {
        "jupyter": {
          "source_hidden": false,
          "outputs_hidden": false
        },
        "nteract": {
          "transient": {
            "deleting": false
          }
        },
        "gather": {
          "logged": 1732152518902
        }
      }
    },
    {
      "cell_type": "code",
      "source": [
        "import sklearn\n",
        "sklearn.__version__"
      ],
      "outputs": [
        {
          "output_type": "execute_result",
          "execution_count": 39,
          "data": {
            "text/plain": "'1.5.1'"
          },
          "metadata": {}
        }
      ],
      "execution_count": 39,
      "metadata": {
        "colab": {
          "base_uri": "https://localhost:8080/",
          "height": 35
        },
        "id": "7k6teGK8ow9L",
        "outputId": "e6e557ac-0302-4908-fc49-ae9b28a70390",
        "gather": {
          "logged": 1732152518980
        }
      }
    },
    {
      "cell_type": "markdown",
      "source": [
        "## Loading the dataset: Used Car Price Prediction"
      ],
      "metadata": {
        "id": "wH75ib_uC3Gc"
      }
    },
    {
      "cell_type": "code",
      "source": [
        "!pip install azure-ai-ml\n",
        "!pip install azure-identity"
      ],
      "outputs": [
        {
          "output_type": "stream",
          "name": "stdout",
          "text": "Requirement already satisfied: azure-ai-ml in /anaconda/envs/azureml_py38/lib/python3.10/site-packages (1.22.3)\nRequirement already satisfied: pyyaml>=5.1.0 in /anaconda/envs/azureml_py38/lib/python3.10/site-packages (from azure-ai-ml) (6.0.1)\nRequirement already satisfied: tqdm in /anaconda/envs/azureml_py38/lib/python3.10/site-packages (from azure-ai-ml) (4.66.4)\nRequirement already satisfied: opencensus-ext-logging in /anaconda/envs/azureml_py38/lib/python3.10/site-packages (from azure-ai-ml) (0.1.1)\nRequirement already satisfied: azure-common>=1.1 in /anaconda/envs/azureml_py38/lib/python3.10/site-packages (from azure-ai-ml) (1.1.28)\nRequirement already satisfied: msrest>=0.6.18 in /anaconda/envs/azureml_py38/lib/python3.10/site-packages (from azure-ai-ml) (0.7.1)\nRequirement already satisfied: marshmallow>=3.5 in /anaconda/envs/azureml_py38/lib/python3.10/site-packages (from azure-ai-ml) (3.23.1)\nRequirement already satisfied: jsonschema>=4.0.0 in /anaconda/envs/azureml_py38/lib/python3.10/site-packages (from azure-ai-ml) (4.23.0)\nRequirement already satisfied: azure-core>=1.23.0 in /anaconda/envs/azureml_py38/lib/python3.10/site-packages (from azure-ai-ml) (1.30.2)\nRequirement already satisfied: typing-extensions in /anaconda/envs/azureml_py38/lib/python3.10/site-packages (from azure-ai-ml) (4.12.2)\nRequirement already satisfied: opencensus-ext-azure in /anaconda/envs/azureml_py38/lib/python3.10/site-packages (from azure-ai-ml) (1.1.13)\nRequirement already satisfied: pyjwt in /anaconda/envs/azureml_py38/lib/python3.10/site-packages (from azure-ai-ml) (2.4.0)\nRequirement already satisfied: azure-mgmt-core>=1.3.0 in /anaconda/envs/azureml_py38/lib/python3.10/site-packages (from azure-ai-ml) (1.4.0)\nRequirement already satisfied: azure-storage-file-share in /anaconda/envs/azureml_py38/lib/python3.10/site-packages (from azure-ai-ml) (12.20.0)\nRequirement already satisfied: isodate in /anaconda/envs/azureml_py38/lib/python3.10/site-packages (from azure-ai-ml) (0.6.1)\nRequirement already satisfied: colorama in /anaconda/envs/azureml_py38/lib/python3.10/site-packages (from azure-ai-ml) (0.4.6)\nRequirement already satisfied: azure-storage-file-datalake>=12.2.0 in /anaconda/envs/azureml_py38/lib/python3.10/site-packages (from azure-ai-ml) (12.18.0)\nRequirement already satisfied: azure-storage-blob>=12.10.0 in /anaconda/envs/azureml_py38/lib/python3.10/site-packages (from azure-ai-ml) (12.24.0)\nRequirement already satisfied: pydash>=6.0.0 in /anaconda/envs/azureml_py38/lib/python3.10/site-packages (from azure-ai-ml) (8.0.4)\nRequirement already satisfied: strictyaml in /anaconda/envs/azureml_py38/lib/python3.10/site-packages (from azure-ai-ml) (1.7.3)\nRequirement already satisfied: six>=1.11.0 in /anaconda/envs/azureml_py38/lib/python3.10/site-packages (from azure-core>=1.23.0->azure-ai-ml) (1.16.0)\nRequirement already satisfied: requests>=2.21.0 in /anaconda/envs/azureml_py38/lib/python3.10/site-packages (from azure-core>=1.23.0->azure-ai-ml) (2.32.3)\nRequirement already satisfied: cryptography>=2.1.4 in /anaconda/envs/azureml_py38/lib/python3.10/site-packages (from azure-storage-blob>=12.10.0->azure-ai-ml) (38.0.4)\nRequirement already satisfied: rpds-py>=0.7.1 in /anaconda/envs/azureml_py38/lib/python3.10/site-packages (from jsonschema>=4.0.0->azure-ai-ml) (0.19.1)\nRequirement already satisfied: attrs>=22.2.0 in /anaconda/envs/azureml_py38/lib/python3.10/site-packages (from jsonschema>=4.0.0->azure-ai-ml) (24.2.0)\nRequirement already satisfied: jsonschema-specifications>=2023.03.6 in /anaconda/envs/azureml_py38/lib/python3.10/site-packages (from jsonschema>=4.0.0->azure-ai-ml) (2023.12.1)\nRequirement already satisfied: referencing>=0.28.4 in /anaconda/envs/azureml_py38/lib/python3.10/site-packages (from jsonschema>=4.0.0->azure-ai-ml) (0.35.1)\nRequirement already satisfied: packaging>=17.0 in /anaconda/envs/azureml_py38/lib/python3.10/site-packages (from marshmallow>=3.5->azure-ai-ml) (24.1)\nRequirement already satisfied: requests-oauthlib>=0.5.0 in /anaconda/envs/azureml_py38/lib/python3.10/site-packages (from msrest>=0.6.18->azure-ai-ml) (2.0.0)\nRequirement already satisfied: certifi>=2017.4.17 in /anaconda/envs/azureml_py38/lib/python3.10/site-packages (from msrest>=0.6.18->azure-ai-ml) (2024.8.30)\nRequirement already satisfied: azure-identity<2.0.0,>=1.5.0 in /anaconda/envs/azureml_py38/lib/python3.10/site-packages (from opencensus-ext-azure->azure-ai-ml) (1.17.1)\nRequirement already satisfied: psutil>=5.6.3 in /anaconda/envs/azureml_py38/lib/python3.10/site-packages (from opencensus-ext-azure->azure-ai-ml) (5.9.3)\nRequirement already satisfied: opencensus<1.0.0,>=0.11.4 in /anaconda/envs/azureml_py38/lib/python3.10/site-packages (from opencensus-ext-azure->azure-ai-ml) (0.11.4)\nRequirement already satisfied: python-dateutil>=2.6.0 in /anaconda/envs/azureml_py38/lib/python3.10/site-packages (from strictyaml->azure-ai-ml) (2.9.0.post0)\nRequirement already satisfied: msal>=1.24.0 in /anaconda/envs/azureml_py38/lib/python3.10/site-packages (from azure-identity<2.0.0,>=1.5.0->opencensus-ext-azure->azure-ai-ml) (1.30.0)\nRequirement already satisfied: msal-extensions>=0.3.0 in /anaconda/envs/azureml_py38/lib/python3.10/site-packages (from azure-identity<2.0.0,>=1.5.0->opencensus-ext-azure->azure-ai-ml) (1.2.0)\nRequirement already satisfied: cffi>=1.12 in /anaconda/envs/azureml_py38/lib/python3.10/site-packages (from cryptography>=2.1.4->azure-storage-blob>=12.10.0->azure-ai-ml) (1.16.0)\nRequirement already satisfied: google-api-core<3.0.0,>=1.0.0 in /anaconda/envs/azureml_py38/lib/python3.10/site-packages (from opencensus<1.0.0,>=0.11.4->opencensus-ext-azure->azure-ai-ml) (2.19.1)\nRequirement already satisfied: opencensus-context>=0.1.3 in /anaconda/envs/azureml_py38/lib/python3.10/site-packages (from opencensus<1.0.0,>=0.11.4->opencensus-ext-azure->azure-ai-ml) (0.1.3)\nRequirement already satisfied: idna<4,>=2.5 in /anaconda/envs/azureml_py38/lib/python3.10/site-packages (from requests>=2.21.0->azure-core>=1.23.0->azure-ai-ml) (3.7)\nRequirement already satisfied: charset-normalizer<4,>=2 in /anaconda/envs/azureml_py38/lib/python3.10/site-packages (from requests>=2.21.0->azure-core>=1.23.0->azure-ai-ml) (3.3.2)\nRequirement already satisfied: urllib3<3,>=1.21.1 in /anaconda/envs/azureml_py38/lib/python3.10/site-packages (from requests>=2.21.0->azure-core>=1.23.0->azure-ai-ml) (1.26.19)\nRequirement already satisfied: oauthlib>=3.0.0 in /anaconda/envs/azureml_py38/lib/python3.10/site-packages (from requests-oauthlib>=0.5.0->msrest>=0.6.18->azure-ai-ml) (3.2.2)\nRequirement already satisfied: pycparser in /anaconda/envs/azureml_py38/lib/python3.10/site-packages (from cffi>=1.12->cryptography>=2.1.4->azure-storage-blob>=12.10.0->azure-ai-ml) (2.22)\nRequirement already satisfied: google-auth<3.0.dev0,>=2.14.1 in /anaconda/envs/azureml_py38/lib/python3.10/site-packages (from google-api-core<3.0.0,>=1.0.0->opencensus<1.0.0,>=0.11.4->opencensus-ext-azure->azure-ai-ml) (2.32.0)\nRequirement already satisfied: proto-plus<2.0.0dev,>=1.22.3 in /anaconda/envs/azureml_py38/lib/python3.10/site-packages (from google-api-core<3.0.0,>=1.0.0->opencensus<1.0.0,>=0.11.4->opencensus-ext-azure->azure-ai-ml) (1.24.0)\nRequirement already satisfied: protobuf!=3.20.0,!=3.20.1,!=4.21.0,!=4.21.1,!=4.21.2,!=4.21.3,!=4.21.4,!=4.21.5,<6.0.0.dev0,>=3.19.5 in /anaconda/envs/azureml_py38/lib/python3.10/site-packages (from google-api-core<3.0.0,>=1.0.0->opencensus<1.0.0,>=0.11.4->opencensus-ext-azure->azure-ai-ml) (3.20.3)\nRequirement already satisfied: googleapis-common-protos<2.0.dev0,>=1.56.2 in /anaconda/envs/azureml_py38/lib/python3.10/site-packages (from google-api-core<3.0.0,>=1.0.0->opencensus<1.0.0,>=0.11.4->opencensus-ext-azure->azure-ai-ml) (1.63.2)\nRequirement already satisfied: portalocker<3,>=1.4 in /anaconda/envs/azureml_py38/lib/python3.10/site-packages (from msal-extensions>=0.3.0->azure-identity<2.0.0,>=1.5.0->opencensus-ext-azure->azure-ai-ml) (2.10.1)\nRequirement already satisfied: pyasn1-modules>=0.2.1 in /anaconda/envs/azureml_py38/lib/python3.10/site-packages (from google-auth<3.0.dev0,>=2.14.1->google-api-core<3.0.0,>=1.0.0->opencensus<1.0.0,>=0.11.4->opencensus-ext-azure->azure-ai-ml) (0.4.0)\nRequirement already satisfied: rsa<5,>=3.1.4 in /anaconda/envs/azureml_py38/lib/python3.10/site-packages (from google-auth<3.0.dev0,>=2.14.1->google-api-core<3.0.0,>=1.0.0->opencensus<1.0.0,>=0.11.4->opencensus-ext-azure->azure-ai-ml) (4.9)\nRequirement already satisfied: cachetools<6.0,>=2.0.0 in /anaconda/envs/azureml_py38/lib/python3.10/site-packages (from google-auth<3.0.dev0,>=2.14.1->google-api-core<3.0.0,>=1.0.0->opencensus<1.0.0,>=0.11.4->opencensus-ext-azure->azure-ai-ml) (5.4.0)\nRequirement already satisfied: pyasn1<0.7.0,>=0.4.6 in /anaconda/envs/azureml_py38/lib/python3.10/site-packages (from pyasn1-modules>=0.2.1->google-auth<3.0.dev0,>=2.14.1->google-api-core<3.0.0,>=1.0.0->opencensus<1.0.0,>=0.11.4->opencensus-ext-azure->azure-ai-ml) (0.6.0)\nRequirement already satisfied: azure-identity in /anaconda/envs/azureml_py38/lib/python3.10/site-packages (1.17.1)\nRequirement already satisfied: typing-extensions>=4.0.0 in /anaconda/envs/azureml_py38/lib/python3.10/site-packages (from azure-identity) (4.12.2)\nRequirement already satisfied: cryptography>=2.5 in /anaconda/envs/azureml_py38/lib/python3.10/site-packages (from azure-identity) (38.0.4)\nRequirement already satisfied: azure-core>=1.23.0 in /anaconda/envs/azureml_py38/lib/python3.10/site-packages (from azure-identity) (1.30.2)\nRequirement already satisfied: msal-extensions>=0.3.0 in /anaconda/envs/azureml_py38/lib/python3.10/site-packages (from azure-identity) (1.2.0)\nRequirement already satisfied: msal>=1.24.0 in /anaconda/envs/azureml_py38/lib/python3.10/site-packages (from azure-identity) (1.30.0)\nRequirement already satisfied: six>=1.11.0 in /anaconda/envs/azureml_py38/lib/python3.10/site-packages (from azure-core>=1.23.0->azure-identity) (1.16.0)\nRequirement already satisfied: requests>=2.21.0 in /anaconda/envs/azureml_py38/lib/python3.10/site-packages (from azure-core>=1.23.0->azure-identity) (2.32.3)\nRequirement already satisfied: cffi>=1.12 in /anaconda/envs/azureml_py38/lib/python3.10/site-packages (from cryptography>=2.5->azure-identity) (1.16.0)\nRequirement already satisfied: PyJWT[crypto]<3,>=1.0.0 in /anaconda/envs/azureml_py38/lib/python3.10/site-packages (from msal>=1.24.0->azure-identity) (2.4.0)\nRequirement already satisfied: portalocker<3,>=1.4 in /anaconda/envs/azureml_py38/lib/python3.10/site-packages (from msal-extensions>=0.3.0->azure-identity) (2.10.1)\nRequirement already satisfied: pycparser in /anaconda/envs/azureml_py38/lib/python3.10/site-packages (from cffi>=1.12->cryptography>=2.5->azure-identity) (2.22)\nRequirement already satisfied: charset-normalizer<4,>=2 in /anaconda/envs/azureml_py38/lib/python3.10/site-packages (from requests>=2.21.0->azure-core>=1.23.0->azure-identity) (3.3.2)\nRequirement already satisfied: idna<4,>=2.5 in /anaconda/envs/azureml_py38/lib/python3.10/site-packages (from requests>=2.21.0->azure-core>=1.23.0->azure-identity) (3.7)\nRequirement already satisfied: certifi>=2017.4.17 in /anaconda/envs/azureml_py38/lib/python3.10/site-packages (from requests>=2.21.0->azure-core>=1.23.0->azure-identity) (2024.8.30)\nRequirement already satisfied: urllib3<3,>=1.21.1 in /anaconda/envs/azureml_py38/lib/python3.10/site-packages (from requests>=2.21.0->azure-core>=1.23.0->azure-identity) (1.26.19)\n"
        }
      ],
      "execution_count": 40,
      "metadata": {
        "jupyter": {
          "source_hidden": false,
          "outputs_hidden": false
        },
        "nteract": {
          "transient": {
            "deleting": false
          }
        }
      }
    },
    {
      "cell_type": "code",
      "source": [
        "import pandas as pd\n",
        "from azure.ai.ml import MLClient\n",
        "from azure.identity import DefaultAzureCredential\n",
        "\n",
        "ml_client = MLClient.from_config(credential=DefaultAzureCredential())\n",
        "data_asset = ml_client.data.get(\"UsedCarDS\", version=\"1\")\n",
        "\n",
        "cars_df = pd.read_csv(data_asset.path)"
      ],
      "outputs": [
        {
          "output_type": "stream",
          "name": "stderr",
          "text": "Found the config file in: /config.json\n"
        }
      ],
      "execution_count": 41,
      "metadata": {
        "jupyter": {
          "source_hidden": false,
          "outputs_hidden": false
        },
        "nteract": {
          "transient": {
            "deleting": false
          }
        },
        "gather": {
          "logged": 1732152531470
        }
      }
    },
    {
      "cell_type": "code",
      "source": [
        "#cars_df = pd.read_csv('./used_car.csv')"
      ],
      "outputs": [],
      "execution_count": 42,
      "metadata": {
        "id": "E2eCp6WPFjCQ",
        "gather": {
          "logged": 1732152531557
        }
      }
    },
    {
      "cell_type": "code",
      "source": [
        "cars_df.head(5)"
      ],
      "outputs": [
        {
          "output_type": "execute_result",
          "execution_count": 43,
          "data": {
            "text/plain": "  Location Fuel_Type Transmission Owner_Type  Seats  Price  mileage_new  \\\n0  Chennai    Petrol       Manual      First    5.0   4.50        18.20   \n1  Chennai    Diesel       Manual      First    7.0   6.00        20.77   \n2   Jaipur    Diesel       Manual      First    5.0   3.50        23.08   \n3  Chennai    Diesel       Manual     Second    5.0   1.95        22.30   \n4   Jaipur    Diesel       Manual      First    5.0   5.60        25.20   \n\n   engine_new  power_new  age    make   model  KM_Driven  \n0        1199      88.70    9   honda    jazz         46  \n1        1248      88.76    8  maruti  ertiga         87  \n2        1461      63.10    7  nissan   micra         86  \n3        1248      74.00    8    tata  indica         65  \n4        1248      74.00    5  maruti   swift         64  ",
            "text/html": "<div>\n<style scoped>\n    .dataframe tbody tr th:only-of-type {\n        vertical-align: middle;\n    }\n\n    .dataframe tbody tr th {\n        vertical-align: top;\n    }\n\n    .dataframe thead th {\n        text-align: right;\n    }\n</style>\n<table border=\"1\" class=\"dataframe\">\n  <thead>\n    <tr style=\"text-align: right;\">\n      <th></th>\n      <th>Location</th>\n      <th>Fuel_Type</th>\n      <th>Transmission</th>\n      <th>Owner_Type</th>\n      <th>Seats</th>\n      <th>Price</th>\n      <th>mileage_new</th>\n      <th>engine_new</th>\n      <th>power_new</th>\n      <th>age</th>\n      <th>make</th>\n      <th>model</th>\n      <th>KM_Driven</th>\n    </tr>\n  </thead>\n  <tbody>\n    <tr>\n      <th>0</th>\n      <td>Chennai</td>\n      <td>Petrol</td>\n      <td>Manual</td>\n      <td>First</td>\n      <td>5.0</td>\n      <td>4.50</td>\n      <td>18.20</td>\n      <td>1199</td>\n      <td>88.70</td>\n      <td>9</td>\n      <td>honda</td>\n      <td>jazz</td>\n      <td>46</td>\n    </tr>\n    <tr>\n      <th>1</th>\n      <td>Chennai</td>\n      <td>Diesel</td>\n      <td>Manual</td>\n      <td>First</td>\n      <td>7.0</td>\n      <td>6.00</td>\n      <td>20.77</td>\n      <td>1248</td>\n      <td>88.76</td>\n      <td>8</td>\n      <td>maruti</td>\n      <td>ertiga</td>\n      <td>87</td>\n    </tr>\n    <tr>\n      <th>2</th>\n      <td>Jaipur</td>\n      <td>Diesel</td>\n      <td>Manual</td>\n      <td>First</td>\n      <td>5.0</td>\n      <td>3.50</td>\n      <td>23.08</td>\n      <td>1461</td>\n      <td>63.10</td>\n      <td>7</td>\n      <td>nissan</td>\n      <td>micra</td>\n      <td>86</td>\n    </tr>\n    <tr>\n      <th>3</th>\n      <td>Chennai</td>\n      <td>Diesel</td>\n      <td>Manual</td>\n      <td>Second</td>\n      <td>5.0</td>\n      <td>1.95</td>\n      <td>22.30</td>\n      <td>1248</td>\n      <td>74.00</td>\n      <td>8</td>\n      <td>tata</td>\n      <td>indica</td>\n      <td>65</td>\n    </tr>\n    <tr>\n      <th>4</th>\n      <td>Jaipur</td>\n      <td>Diesel</td>\n      <td>Manual</td>\n      <td>First</td>\n      <td>5.0</td>\n      <td>5.60</td>\n      <td>25.20</td>\n      <td>1248</td>\n      <td>74.00</td>\n      <td>5</td>\n      <td>maruti</td>\n      <td>swift</td>\n      <td>64</td>\n    </tr>\n  </tbody>\n</table>\n</div>"
          },
          "metadata": {}
        }
      ],
      "execution_count": 43,
      "metadata": {
        "colab": {
          "base_uri": "https://localhost:8080/",
          "height": 281
        },
        "id": "9w_Ywj6SFwrc",
        "outputId": "a4908b6d-3cae-4c10-de70-56677d68ac14",
        "gather": {
          "logged": 1732152531642
        }
      }
    },
    {
      "cell_type": "code",
      "source": [
        "x_columns = ['KM_Driven', 'Fuel_Type', 'age',\n",
        "              'Transmission', 'Owner_Type', 'Seats',\n",
        "              'make', 'mileage_new', 'engine_new', 'model',\n",
        "              'power_new', 'Location']\n",
        "## model of the car is not included in the model"
      ],
      "outputs": [],
      "execution_count": 44,
      "metadata": {
        "id": "sehIIbSBFnD1",
        "gather": {
          "logged": 1732152531716
        }
      }
    },
    {
      "cell_type": "code",
      "source": [
        "cars_df.shape"
      ],
      "outputs": [
        {
          "output_type": "execute_result",
          "execution_count": 45,
          "data": {
            "text/plain": "(3092, 13)"
          },
          "metadata": {}
        }
      ],
      "execution_count": 45,
      "metadata": {
        "colab": {
          "base_uri": "https://localhost:8080/"
        },
        "id": "-JteBYVPShF3",
        "outputId": "8f26fc0f-3a5e-4956-b58f-8f07ae38cb92",
        "gather": {
          "logged": 1732152531800
        }
      }
    },
    {
      "cell_type": "code",
      "source": [
        "cars_df = cars_df[x_columns + ['Price']].dropna()"
      ],
      "outputs": [],
      "execution_count": 46,
      "metadata": {
        "id": "pVC9f4QISa2h",
        "gather": {
          "logged": 1732152531875
        }
      }
    },
    {
      "cell_type": "code",
      "source": [
        "cars_df.shape"
      ],
      "outputs": [
        {
          "output_type": "execute_result",
          "execution_count": 47,
          "data": {
            "text/plain": "(3091, 13)"
          },
          "metadata": {}
        }
      ],
      "execution_count": 47,
      "metadata": {
        "colab": {
          "base_uri": "https://localhost:8080/"
        },
        "id": "l_bULZE0SjBf",
        "outputId": "87c69daa-dceb-4e87-a73d-f60eb7c20eb7",
        "gather": {
          "logged": 1732152531956
        }
      }
    },
    {
      "cell_type": "markdown",
      "source": [
        "## Identifying numerical and categorical features"
      ],
      "metadata": {
        "id": "pJxhn2VxDAdG"
      }
    },
    {
      "cell_type": "code",
      "source": [
        "cat_features = ['Fuel_Type',\n",
        "                'Transmission', 'Owner_Type', 'model',\n",
        "                'make', 'Location']"
      ],
      "outputs": [],
      "execution_count": 48,
      "metadata": {
        "id": "PuezADwYFsWd",
        "gather": {
          "logged": 1732152532029
        }
      }
    },
    {
      "cell_type": "code",
      "source": [
        "num_features = list(set(x_columns) - set(cat_features))"
      ],
      "outputs": [],
      "execution_count": 49,
      "metadata": {
        "id": "IyzKKTogFs_l",
        "gather": {
          "logged": 1732152532092
        }
      }
    },
    {
      "cell_type": "markdown",
      "source": [
        "## Split the dataset"
      ],
      "metadata": {
        "id": "4tyTBzVVDDrX"
      }
    },
    {
      "cell_type": "code",
      "source": [
        "x_train, x_test, y_train, y_test = train_test_split(cars_df[x_columns],\n",
        "                                                    cars_df.Price,\n",
        "                                                    train_size = 0.8,\n",
        "                                                    random_state = 100)"
      ],
      "outputs": [],
      "execution_count": 50,
      "metadata": {
        "id": "-ZXkTZdAkjFT",
        "gather": {
          "logged": 1732152532156
        }
      }
    },
    {
      "cell_type": "markdown",
      "source": [
        "## Creating the pipeline for the deployment"
      ],
      "metadata": {
        "id": "ZJBs5b9MDGXr"
      }
    },
    {
      "cell_type": "code",
      "source": [
        "numeric_transformer = Pipeline(steps=[('scaler', StandardScaler())])\n",
        "\n",
        "categorical_transformer = Pipeline(steps=[('onehot', \n",
        "                                           OneHotEncoder(handle_unknown='ignore'))])\n",
        "\n",
        "preprocessor = ColumnTransformer(\n",
        "    transformers=[\n",
        "        ('num', numeric_transformer, num_features),                  \n",
        "        ('cat', categorical_transformer, cat_features),\n",
        "    ])\n",
        "\n",
        "params = { \"n_estimators\": 400,\n",
        "           \"max_depth\": 4 }\n",
        "\n",
        "xgb_regressor = GradientBoostingRegressor(**params)\n",
        "\n",
        "reg = Pipeline(steps=[('preprocessor', preprocessor),\n",
        "                      ('regressor', xgb_regressor)])           \n",
        "\n",
        "reg.fit(x_train, \n",
        "        y_train)\n",
        "\n",
        "rmse = np.sqrt(mean_squared_error(y_test, \n",
        "                                  reg.predict(x_test)))"
      ],
      "outputs": [],
      "execution_count": 51,
      "metadata": {
        "id": "hj4QG6V7dZHd",
        "gather": {
          "logged": 1732152533605
        }
      }
    },
    {
      "cell_type": "code",
      "source": [
        "x_test[0:1]"
      ],
      "outputs": [
        {
          "output_type": "execute_result",
          "execution_count": 52,
          "data": {
            "text/plain": "      KM_Driven Fuel_Type  age Transmission Owner_Type  Seats    make  \\\n1588         75    Diesel    9       Manual     Second    5.0  maruti   \n\n      mileage_new  engine_new model  power_new Location  \n1588         21.1        1248  ritz       73.9   Mumbai  ",
            "text/html": "<div>\n<style scoped>\n    .dataframe tbody tr th:only-of-type {\n        vertical-align: middle;\n    }\n\n    .dataframe tbody tr th {\n        vertical-align: top;\n    }\n\n    .dataframe thead th {\n        text-align: right;\n    }\n</style>\n<table border=\"1\" class=\"dataframe\">\n  <thead>\n    <tr style=\"text-align: right;\">\n      <th></th>\n      <th>KM_Driven</th>\n      <th>Fuel_Type</th>\n      <th>age</th>\n      <th>Transmission</th>\n      <th>Owner_Type</th>\n      <th>Seats</th>\n      <th>make</th>\n      <th>mileage_new</th>\n      <th>engine_new</th>\n      <th>model</th>\n      <th>power_new</th>\n      <th>Location</th>\n    </tr>\n  </thead>\n  <tbody>\n    <tr>\n      <th>1588</th>\n      <td>75</td>\n      <td>Diesel</td>\n      <td>9</td>\n      <td>Manual</td>\n      <td>Second</td>\n      <td>5.0</td>\n      <td>maruti</td>\n      <td>21.1</td>\n      <td>1248</td>\n      <td>ritz</td>\n      <td>73.9</td>\n      <td>Mumbai</td>\n    </tr>\n  </tbody>\n</table>\n</div>"
          },
          "metadata": {}
        }
      ],
      "execution_count": 52,
      "metadata": {
        "jupyter": {
          "source_hidden": false,
          "outputs_hidden": false
        },
        "nteract": {
          "transient": {
            "deleting": false
          }
        },
        "gather": {
          "logged": 1732152533695
        }
      }
    },
    {
      "cell_type": "code",
      "source": [
        "print(rmse)"
      ],
      "outputs": [
        {
          "output_type": "stream",
          "name": "stdout",
          "text": "0.6427824527624755\n"
        }
      ],
      "execution_count": 53,
      "metadata": {
        "colab": {
          "base_uri": "https://localhost:8080/"
        },
        "id": "_sgMnRCllduv",
        "outputId": "ade741b2-d216-4498-d391-ec71d697faaf",
        "gather": {
          "logged": 1732152533760
        }
      }
    },
    {
      "cell_type": "markdown",
      "source": [
        "## Creating Pickel File and Storing it"
      ],
      "metadata": {
        "id": "GinsWuBFaNoi"
      }
    },
    {
      "cell_type": "code",
      "source": [
        "!rm carmodel.pkl"
      ],
      "outputs": [],
      "execution_count": 54,
      "metadata": {
        "jupyter": {
          "source_hidden": false,
          "outputs_hidden": false
        },
        "nteract": {
          "transient": {
            "deleting": false
          }
        }
      }
    },
    {
      "cell_type": "code",
      "source": [
        "from joblib import dump"
      ],
      "outputs": [],
      "execution_count": 55,
      "metadata": {
        "id": "XLB8MUnmaNBJ",
        "gather": {
          "logged": 1732152533878
        }
      }
    },
    {
      "cell_type": "code",
      "source": [
        "dump(reg, \"./model/carmodel.pkl\")"
      ],
      "outputs": [
        {
          "output_type": "execute_result",
          "execution_count": 56,
          "data": {
            "text/plain": "['./model/carmodel.pkl']"
          },
          "metadata": {}
        }
      ],
      "execution_count": 56,
      "metadata": {
        "colab": {
          "base_uri": "https://localhost:8080/"
        },
        "id": "t_VVLIJ1ddSb",
        "outputId": "4280441d-8d77-4c09-a20e-90a978e1b41e",
        "gather": {
          "logged": 1732152533951
        }
      }
    },
    {
      "cell_type": "code",
      "source": [
        "!ls -al "
      ],
      "outputs": [
        {
          "output_type": "stream",
          "name": "stdout",
          "text": "total 473\r\ndrwxrwxrwx 2 root root      0 Apr 29  2024  .\r\ndrwxrwxrwx 2 root root      0 Apr 29  2024  ..\r\n-rwxrwxrwx 1 root root    315 Jul 31 04:50  .amlignore\r\n-rwxrwxrwx 1 root root    315 Jul 31 04:50  .amlignore.amltmp\r\ndrwxrwxrwx 2 root root      0 Jul 31 04:50  .ipynb_aml_checkpoints\r\n-rwxrwxrwx 1 root root   3143 Jul 31 16:02 'Azure ML Invoke 1.0.ipynb'\r\n-rwxrwxrwx 1 root root  41517 Nov 21 00:37 'Azure Model Used Car Sklearn.ipynb'\r\n-rwxrwxrwx 1 root root  34606 Nov 21 00:55 'Model Build.ipynb'\r\n-rwxrwxrwx 1 root root  27519 Nov 21 01:12 'Model Deploy.ipynb'\r\n-rwxrwxrwx 1 root root  15655 Nov 21 00:58 'Model Register.ipynb'\r\n-rwxrwxrwx 1 root root  10981 Nov 21 00:20 'Usedcar Model Deploy.ipynb'\r\n-rwxrwxrwx 1 root root   3143 Jul 31 16:02 'azure ml invoke 1.0.ipynb.amltmp'\r\n-rwxrwxrwx 1 root root  41517 Nov 21 00:37 'azure model used car sklearn.ipynb.amltmp'\r\ndrwxrwxrwx 2 root root      0 Nov 21 00:57  model\r\n-rwxrwxrwx 1 root root  34606 Nov 21 00:55 'model build.ipynb.amltmp'\r\n-rwxrwxrwx 1 root root  27519 Nov 21 01:12 'model deploy.ipynb.amltmp'\r\n-rwxrwxrwx 1 root root  15655 Nov 21 00:58 'model register.ipynb.amltmp'\r\n-rwxrwxrwx 1 root root   1939 Nov 21 00:20  score.py\r\ndrwxrwxrwx 2 root root      0 Nov 21 00:47  src\r\n-rwxrwxrwx 1 root root 210943 Jul 31 04:57  used_car.csv\r\n-rwxrwxrwx 1 root root  10981 Nov 21 00:20 'usedcar model deploy.ipynb.amltmp'\r\n"
        }
      ],
      "execution_count": 57,
      "metadata": {
        "jupyter": {
          "source_hidden": false,
          "outputs_hidden": false
        },
        "nteract": {
          "transient": {
            "deleting": false
          }
        }
      }
    },
    {
      "cell_type": "code",
      "source": [
        "import sklearn\n",
        "\n",
        "from azureml.core import Model\n",
        "from azureml.core.workspace import Workspace\n",
        "from azureml.core.resource_configuration import ResourceConfiguration\n",
        "\n",
        "ws = Workspace.from_config()\n",
        "\n",
        "model = Model.register(workspace=ws,\n",
        "                       model_name='usedcarprice_gbm',                # Name of the registered model in your workspace.\n",
        "                       model_path='./model/carmodel.pkl',  # Local file to upload and register as a model.\n",
        "                       model_framework=Model.Framework.SCIKITLEARN,  # Framework used to create the model.\n",
        "                       model_framework_version=sklearn.__version__,  # Version of scikit-learn used to create the model.\n",
        "                       description='XGBoost Regression model to predict the price of an used car.',\n",
        "                       tags={'area': 'usedcar', 'type': 'regression'})"
      ],
      "outputs": [
        {
          "output_type": "stream",
          "name": "stdout",
          "text": "Registering model usedcarprice_gbm\n"
        }
      ],
      "execution_count": 58,
      "metadata": {
        "id": "a377wlaAdmHa",
        "gather": {
          "logged": 1732152537403
        }
      }
    }
  ],
  "metadata": {
    "colab": {
      "name": "Model Persistence Pickle 1.0.ipynb",
      "provenance": [],
      "collapsed_sections": []
    },
    "kernelspec": {
      "name": "python38-azureml",
      "language": "python",
      "display_name": "Python 3.8 - AzureML"
    },
    "language_info": {
      "name": "python",
      "version": "3.10.11",
      "mimetype": "text/x-python",
      "codemirror_mode": {
        "name": "ipython",
        "version": 3
      },
      "pygments_lexer": "ipython3",
      "nbconvert_exporter": "python",
      "file_extension": ".py"
    },
    "kernel_info": {
      "name": "python38-azureml"
    },
    "microsoft": {
      "host": {
        "AzureML": {
          "notebookHasBeenCompleted": true
        }
      },
      "ms_spell_check": {
        "ms_spell_check_language": "en"
      }
    },
    "nteract": {
      "version": "nteract-front-end@1.0.0"
    }
  },
  "nbformat": 4,
  "nbformat_minor": 0
}