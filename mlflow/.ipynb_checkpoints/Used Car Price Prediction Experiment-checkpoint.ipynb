{
 "cells": [
  {
   "cell_type": "markdown",
   "id": "344671a9-6b09-4f6e-a424-08482c0ef9e5",
   "metadata": {},
   "source": [
    "## What is a Conda Environment?\n",
    "A Conda environment is an isolated, self-contained directory that contains all the necessary dependencies—such as specific versions of Python, libraries, and tools—needed for a particular project or use case. These environments are created and managed using Conda, an open-source package and environment management system, which is often used in data science and software development to manage dependencies easily.\n",
    "\n",
    "A Conda environment has:\n",
    "\n",
    "- Python version (or potentially a different programming language runtime)\n",
    "- Libraries required for the project (like pandas, numpy, scikit-learn, etc.)\n",
    "- Scripts or other tools required for the project.\n",
    "\n",
    "### Create a conda environment\n",
    "\n",
    "- Create a conda envionment \n",
    "\n",
    "```\n",
    "conda create -n mlops python=3.9\n",
    "```\n",
    "\n",
    "- List conda environments\n",
    "\n",
    "```\n",
    "conda env list\n",
    "```\n",
    "\n",
    "- Activate the environment\n",
    "\n",
    "```\n",
    "conda activate mlops\n",
    "```\n",
    "\n",
    "- Print conda environment information\n",
    "\n",
    "```\n",
    "conda info\n",
    "```\n",
    "\n",
    "- Deactivate the environment\n",
    "\n",
    "```\n",
    "conda deactivate\n",
    "\n",
    "```\n",
    "\n",
    "\n",
    "\n"
   ]
  },
  {
   "cell_type": "markdown",
   "id": "5d19e77f-48e2-432b-a221-02a790f25ffe",
   "metadata": {},
   "source": [
    "### Installing and Configuring mlflow\n",
    "\n",
    "- Install mlflow library\n",
    "```\n",
    "pip install mlflow\n",
    "```\n",
    "\n",
    "- Start the mlflow server\n",
    "\n",
    "```\n",
    "mlflow server --host 127.0.0.1 --port 8080\n",
    "```\n"
   ]
  },
  {
   "cell_type": "markdown",
   "id": "4bf93b8e-774b-48dd-ac55-7b5cfd33d46c",
   "metadata": {},
   "source": [
    "### Import required libraries"
   ]
  },
  {
   "cell_type": "code",
   "execution_count": 14,
   "id": "f1f2e17f-887e-490b-b7ff-a270ad809715",
   "metadata": {},
   "outputs": [],
   "source": [
    "import mlflow\n",
    "from mlflow.models import infer_signature\n",
    "\n",
    "import numpy as np\n",
    "import pandas as pd\n",
    "import requests\n",
    "import base64\n",
    "from getpass import getpass\n",
    "from sklearn import datasets\n",
    "from sklearn.model_selection import train_test_split\n",
    "from sklearn.ensemble import GradientBoostingRegressor\n",
    "from sklearn.metrics import r2_score, mean_squared_error\n",
    "from sklearn.compose import ColumnTransformer\n",
    "from sklearn.pipeline import Pipeline\n",
    "from sklearn.impute import SimpleImputer\n",
    "from sklearn.preprocessing import StandardScaler, OneHotEncoder"
   ]
  },
  {
   "cell_type": "code",
   "execution_count": 3,
   "id": "f26d5237-da15-4be1-9a35-827dbb0476b3",
   "metadata": {},
   "outputs": [],
   "source": [
    "cars_df = pd.read_csv(\"used_car.csv\")"
   ]
  },
  {
   "cell_type": "code",
   "execution_count": 4,
   "id": "6fc4ebdb-daa6-44c1-a448-9f2a0f71979b",
   "metadata": {},
   "outputs": [],
   "source": [
    "x_columns = ['KM_Driven', 'Fuel_Type', 'age',\n",
    "              'Transmission', 'Owner_Type', 'Seats',\n",
    "              'make', 'mileage_new', 'engine_new', 'model',\n",
    "              'power_new', 'Location']"
   ]
  },
  {
   "cell_type": "code",
   "execution_count": 5,
   "id": "65308f2c-3172-4437-84c9-4e1a1cbad841",
   "metadata": {},
   "outputs": [],
   "source": [
    "cars_df = cars_df[x_columns + ['Price']].dropna()"
   ]
  },
  {
   "cell_type": "code",
   "execution_count": 6,
   "id": "c03f5a2f-fc86-413c-917a-93da3ea505c4",
   "metadata": {},
   "outputs": [],
   "source": [
    "cat_features = ['Fuel_Type',\n",
    "                'Transmission', 'Owner_Type', 'model',\n",
    "                'make', 'Location']"
   ]
  },
  {
   "cell_type": "code",
   "execution_count": 7,
   "id": "8e036da8-0382-4e10-aa5f-ee5b49cee1b1",
   "metadata": {},
   "outputs": [],
   "source": [
    "num_features = list(set(x_columns) - set(cat_features))"
   ]
  },
  {
   "cell_type": "code",
   "execution_count": 8,
   "id": "fa478048-6df3-42b4-82b4-24fff123f357",
   "metadata": {},
   "outputs": [],
   "source": [
    "train, test = train_test_split(cars_df,\n",
    "                               train_size = 0.8,\n",
    "                               random_state = 100)"
   ]
  },
  {
   "cell_type": "code",
   "execution_count": 9,
   "id": "2b9fdf5d-758b-4237-9724-921f53373ba0",
   "metadata": {},
   "outputs": [
    {
     "data": {
      "text/plain": [
       "(2472, 13)"
      ]
     },
     "execution_count": 9,
     "metadata": {},
     "output_type": "execute_result"
    }
   ],
   "source": [
    "train.shape"
   ]
  },
  {
   "cell_type": "code",
   "execution_count": 10,
   "id": "33d32f5b-2746-44a8-be54-86ff478ad974",
   "metadata": {},
   "outputs": [
    {
     "data": {
      "text/plain": [
       "(619, 13)"
      ]
     },
     "execution_count": 10,
     "metadata": {},
     "output_type": "execute_result"
    }
   ],
   "source": [
    "test.shape"
   ]
  },
  {
   "cell_type": "code",
   "execution_count": 11,
   "id": "74ed8490-a574-4e70-9c41-e8d20bb4b26e",
   "metadata": {},
   "outputs": [],
   "source": [
    "train.to_parquet(\"train.parquet\")"
   ]
  },
  {
   "cell_type": "code",
   "execution_count": 12,
   "id": "3b9dd01a-454c-404b-8c14-54e38a6a75a7",
   "metadata": {},
   "outputs": [],
   "source": [
    "test.to_parquet(\"test.parquet\")"
   ]
  },
  {
   "cell_type": "markdown",
   "id": "0d0f8dd5-5df8-42af-b7b0-243b64eabef4",
   "metadata": {},
   "source": [
    "### Version Control train and test datasets on Github\n",
    "\n",
    "Useful commands for github\n",
    "\n",
    "```\n",
    "git clone https://github.com/username/mlopsdemo.git\n",
    "cd mlopsdemo\n",
    "cp /path/to/your/mlopsdemo/ .\n",
    "git add train.parquet\n",
    "git commit -m \"Initial commit of dataset\"\n",
    "git push origin main\n",
    "```\n"
   ]
  },
  {
   "cell_type": "code",
   "execution_count": 18,
   "id": "46b9315c-6a8e-4006-94dd-2ef14633181c",
   "metadata": {},
   "outputs": [],
   "source": [
    "train_df = pd.read_parquet(\"https://raw.githubusercontent.com/manaranjanp/MLOpsDemo/main/datasets/train.parquet\")"
   ]
  },
  {
   "cell_type": "code",
   "execution_count": 19,
   "id": "fd25c94a-7c67-47cb-8148-3c0f5a4f94d2",
   "metadata": {},
   "outputs": [
    {
     "data": {
      "text/html": [
       "<div>\n",
       "<style scoped>\n",
       "    .dataframe tbody tr th:only-of-type {\n",
       "        vertical-align: middle;\n",
       "    }\n",
       "\n",
       "    .dataframe tbody tr th {\n",
       "        vertical-align: top;\n",
       "    }\n",
       "\n",
       "    .dataframe thead th {\n",
       "        text-align: right;\n",
       "    }\n",
       "</style>\n",
       "<table border=\"1\" class=\"dataframe\">\n",
       "  <thead>\n",
       "    <tr style=\"text-align: right;\">\n",
       "      <th></th>\n",
       "      <th>KM_Driven</th>\n",
       "      <th>Fuel_Type</th>\n",
       "      <th>age</th>\n",
       "      <th>Transmission</th>\n",
       "      <th>Owner_Type</th>\n",
       "      <th>Seats</th>\n",
       "      <th>make</th>\n",
       "      <th>mileage_new</th>\n",
       "      <th>engine_new</th>\n",
       "      <th>model</th>\n",
       "      <th>power_new</th>\n",
       "      <th>Location</th>\n",
       "      <th>Price</th>\n",
       "    </tr>\n",
       "  </thead>\n",
       "  <tbody>\n",
       "    <tr>\n",
       "      <th>2954</th>\n",
       "      <td>65</td>\n",
       "      <td>Diesel</td>\n",
       "      <td>6</td>\n",
       "      <td>Manual</td>\n",
       "      <td>First</td>\n",
       "      <td>5.0</td>\n",
       "      <td>hyundai</td>\n",
       "      <td>24.00</td>\n",
       "      <td>1120</td>\n",
       "      <td>grand</td>\n",
       "      <td>70.00</td>\n",
       "      <td>Delhi</td>\n",
       "      <td>3.99</td>\n",
       "    </tr>\n",
       "    <tr>\n",
       "      <th>716</th>\n",
       "      <td>42</td>\n",
       "      <td>Petrol</td>\n",
       "      <td>5</td>\n",
       "      <td>Manual</td>\n",
       "      <td>First</td>\n",
       "      <td>5.0</td>\n",
       "      <td>hyundai</td>\n",
       "      <td>18.60</td>\n",
       "      <td>1197</td>\n",
       "      <td>i20</td>\n",
       "      <td>81.83</td>\n",
       "      <td>Mumbai</td>\n",
       "      <td>5.05</td>\n",
       "    </tr>\n",
       "    <tr>\n",
       "      <th>250</th>\n",
       "      <td>31</td>\n",
       "      <td>Petrol</td>\n",
       "      <td>3</td>\n",
       "      <td>Manual</td>\n",
       "      <td>First</td>\n",
       "      <td>5.0</td>\n",
       "      <td>maruti</td>\n",
       "      <td>20.40</td>\n",
       "      <td>1197</td>\n",
       "      <td>swift</td>\n",
       "      <td>81.80</td>\n",
       "      <td>Kochi</td>\n",
       "      <td>5.75</td>\n",
       "    </tr>\n",
       "    <tr>\n",
       "      <th>1506</th>\n",
       "      <td>42</td>\n",
       "      <td>Petrol</td>\n",
       "      <td>5</td>\n",
       "      <td>Automatic</td>\n",
       "      <td>First</td>\n",
       "      <td>5.0</td>\n",
       "      <td>honda</td>\n",
       "      <td>15.50</td>\n",
       "      <td>1198</td>\n",
       "      <td>amaze</td>\n",
       "      <td>86.70</td>\n",
       "      <td>Pune</td>\n",
       "      <td>4.34</td>\n",
       "    </tr>\n",
       "    <tr>\n",
       "      <th>859</th>\n",
       "      <td>169</td>\n",
       "      <td>Diesel</td>\n",
       "      <td>5</td>\n",
       "      <td>Manual</td>\n",
       "      <td>First</td>\n",
       "      <td>7.0</td>\n",
       "      <td>mahindra</td>\n",
       "      <td>14.95</td>\n",
       "      <td>2489</td>\n",
       "      <td>xylo</td>\n",
       "      <td>93.70</td>\n",
       "      <td>Hyderabad</td>\n",
       "      <td>5.00</td>\n",
       "    </tr>\n",
       "  </tbody>\n",
       "</table>\n",
       "</div>"
      ],
      "text/plain": [
       "      KM_Driven Fuel_Type  age Transmission Owner_Type  Seats      make  \\\n",
       "2954         65    Diesel    6       Manual      First    5.0   hyundai   \n",
       "716          42    Petrol    5       Manual      First    5.0   hyundai   \n",
       "250          31    Petrol    3       Manual      First    5.0    maruti   \n",
       "1506         42    Petrol    5    Automatic      First    5.0     honda   \n",
       "859         169    Diesel    5       Manual      First    7.0  mahindra   \n",
       "\n",
       "      mileage_new  engine_new  model  power_new   Location  Price  \n",
       "2954        24.00        1120  grand      70.00      Delhi   3.99  \n",
       "716         18.60        1197    i20      81.83     Mumbai   5.05  \n",
       "250         20.40        1197  swift      81.80      Kochi   5.75  \n",
       "1506        15.50        1198  amaze      86.70       Pune   4.34  \n",
       "859         14.95        2489   xylo      93.70  Hyderabad   5.00  "
      ]
     },
     "execution_count": 19,
     "metadata": {},
     "output_type": "execute_result"
    }
   ],
   "source": [
    "train_df.head(5)"
   ]
  },
  {
   "cell_type": "code",
   "execution_count": 21,
   "id": "e8d2bee8-9967-48b4-9983-5835f6b324a6",
   "metadata": {},
   "outputs": [],
   "source": [
    "test_df = pd.read_parquet(\"https://raw.githubusercontent.com/manaranjanp/MLOpsDemo/main/datasets/test.parquet\")"
   ]
  },
  {
   "cell_type": "markdown",
   "id": "be3d926b-f7a8-44f9-87c9-f104d4363e5a",
   "metadata": {},
   "source": [
    "### Create the ML Pipeline"
   ]
  },
  {
   "cell_type": "code",
   "execution_count": 23,
   "id": "188f7d56-3106-44da-87da-c89650d918df",
   "metadata": {},
   "outputs": [],
   "source": [
    "numeric_transformer = Pipeline(steps=[('scaler', StandardScaler())])\n",
    "\n",
    "categorical_transformer = Pipeline(steps=[('onehot', \n",
    "                                           OneHotEncoder(handle_unknown='ignore'))])\n",
    "\n",
    "preprocessor = ColumnTransformer(\n",
    "    transformers=[\n",
    "        ('num', numeric_transformer, num_features),                  \n",
    "        ('cat', categorical_transformer, cat_features),\n",
    "    ])\n",
    "\n",
    "params = { \"n_estimators\": 400,\n",
    "           \"max_depth\": 4 }\n",
    "\n",
    "xgb_regressor = GradientBoostingRegressor(**params)\n",
    "\n",
    "reg = Pipeline(steps=[('preprocessor', preprocessor),\n",
    "                      ('regressor', xgb_regressor)])           \n",
    "\n",
    "reg.fit(train_df[x_columns], \n",
    "        train_df['Price'])\n",
    "\n",
    "rmse = np.sqrt(mean_squared_error(test_df['Price'], \n",
    "                                  reg.predict(test_df[x_columns])))\n",
    "r2 = r2_score(test_df['Price'], reg.predict(test_df[x_columns]))"
   ]
  },
  {
   "cell_type": "markdown",
   "id": "1c34e6da-9a87-4cd0-9e90-d754f8dc5367",
   "metadata": {},
   "source": [
    "### Track Experiments"
   ]
  },
  {
   "cell_type": "code",
   "execution_count": 24,
   "id": "67bd088f-6808-48f6-961b-781944b1f1a6",
   "metadata": {},
   "outputs": [
    {
     "name": "stderr",
     "output_type": "stream",
     "text": [
      "2024/11/22 12:08:08 INFO mlflow.tracking.fluent: Experiment with name 'UserCarPrice Experiment V1' does not exist. Creating a new experiment.\n",
      "/Users/manaranjanp/anaconda3/envs/mlops/lib/python3.9/site-packages/mlflow/types/utils.py:407: UserWarning: Hint: Inferred schema contains integer column(s). Integer columns in Python cannot represent missing values. If your input data contains missing values at inference time, it will be encoded as floats and will cause a schema enforcement error. The best way to avoid this problem is to infer the model schema based on a realistic data sample (training dataset) that includes missing values. Alternatively, you can declare integer columns as doubles (float64) whenever these columns may have missing values. See `Handling Integers With Missing Values <https://www.mlflow.org/docs/latest/models.html#handling-integers-with-missing-values>`_ for more details.\n",
      "  warnings.warn(\n",
      "Registered model 'userd_car_model' already exists. Creating a new version of this model...\n",
      "2024/11/22 12:08:13 INFO mlflow.store.model_registry.abstract_store: Waiting up to 300 seconds for model version to finish creation. Model name: userd_car_model, version 2\n"
     ]
    },
    {
     "name": "stdout",
     "output_type": "stream",
     "text": [
      "🏃 View run whimsical-goose-655 at: http://127.0.0.1:9090/#/experiments/544501832851099702/runs/c108557530b24ad2894964dae4cde86d\n",
      "🧪 View experiment at: http://127.0.0.1:9090/#/experiments/544501832851099702\n"
     ]
    },
    {
     "name": "stderr",
     "output_type": "stream",
     "text": [
      "Created version '2' of model 'userd_car_model'.\n"
     ]
    }
   ],
   "source": [
    "# Set our tracking server uri for logging\n",
    "mlflow.set_tracking_uri(uri=\"http://127.0.0.1:9090\")\n",
    "\n",
    "# Create a new MLflow Experiment\n",
    "mlflow.set_experiment(\"UserCarPrice Experiment V1\")\n",
    "\n",
    "# Start an MLflow run\n",
    "with mlflow.start_run():\n",
    "    # Log the hyperparameters\n",
    "    mlflow.log_params(params)\n",
    "\n",
    "    # Log the loss metric\n",
    "    mlflow.log_metric(\"rmse\", rmse)\n",
    "    # Log the loss metric\n",
    "    mlflow.log_metric(\"r2\", r2)\n",
    "\n",
    "    # Set a tag that we can use to remind ourselves what this run was for\n",
    "    mlflow.set_tag(\"Training Info\", \"Gradient Boosting Model\")\n",
    "\n",
    "    # Infer the model signature\n",
    "    signature = infer_signature(train_df[x_columns], \n",
    "                                reg.predict(train_df[x_columns]))\n",
    "\n",
    "    # Log the model\n",
    "    model_info = mlflow.sklearn.log_model(\n",
    "        sk_model=reg,\n",
    "        artifact_path=\"usedcarmodel\",\n",
    "        signature=signature,\n",
    "        input_example=train_df[x_columns],\n",
    "        registered_model_name=\"userd_car_model\",\n",
    "    )"
   ]
  },
  {
   "cell_type": "code",
   "execution_count": 25,
   "id": "b7531529-c5db-4dcd-8592-c3d8e82cde1e",
   "metadata": {},
   "outputs": [
    {
     "data": {
      "text/plain": [
       "'runs:/c108557530b24ad2894964dae4cde86d/usedcarmodel'"
      ]
     },
     "execution_count": 25,
     "metadata": {},
     "output_type": "execute_result"
    }
   ],
   "source": [
    "model_info.model_uri"
   ]
  }
 ],
 "metadata": {
  "kernelspec": {
   "display_name": "Python 3 (ipykernel)",
   "language": "python",
   "name": "python3"
  },
  "language_info": {
   "codemirror_mode": {
    "name": "ipython",
    "version": 3
   },
   "file_extension": ".py",
   "mimetype": "text/x-python",
   "name": "python",
   "nbconvert_exporter": "python",
   "pygments_lexer": "ipython3",
   "version": "3.9.20"
  }
 },
 "nbformat": 4,
 "nbformat_minor": 5
}
