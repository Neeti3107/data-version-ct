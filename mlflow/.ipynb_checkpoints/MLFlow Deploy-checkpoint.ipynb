{
 "cells": [
  {
   "cell_type": "markdown",
   "id": "dd271aba-24b3-4879-821e-c99a3f425ccc",
   "metadata": {},
   "source": [
    "### Import Required Libraries"
   ]
  },
  {
   "cell_type": "code",
   "execution_count": 1,
   "id": "f881f60c-36dd-4545-896b-4cedb758a4a6",
   "metadata": {},
   "outputs": [],
   "source": [
    "import mlflow\n",
    "from mlflow.models import infer_signature\n",
    "\n",
    "import numpy as np\n",
    "import pandas as pd\n",
    "from sklearn import datasets\n",
    "from sklearn.model_selection import train_test_split\n",
    "from sklearn.ensemble import GradientBoostingRegressor\n",
    "from sklearn.metrics import r2_score, mean_squared_error\n",
    "from sklearn.compose import ColumnTransformer\n",
    "from sklearn.pipeline import Pipeline\n",
    "from sklearn.impute import SimpleImputer\n",
    "from sklearn.preprocessing import StandardScaler, OneHotEncoder"
   ]
  },
  {
   "cell_type": "markdown",
   "id": "645be2ee-cb1b-4f54-a6ff-936f368f9b45",
   "metadata": {},
   "source": [
    "### Get the model from mlflow"
   ]
  },
  {
   "cell_type": "code",
   "execution_count": 2,
   "id": "bec9d71e-45d8-4c10-a255-562f2265a821",
   "metadata": {},
   "outputs": [],
   "source": [
    "# Set our tracking server uri for logging\n",
    "mlflow.set_tracking_uri(uri=\"http://127.0.0.1:9090\")"
   ]
  },
  {
   "cell_type": "code",
   "execution_count": 3,
   "id": "36d7abc9-6e52-4125-a6af-bc08aef19477",
   "metadata": {},
   "outputs": [
    {
     "name": "stderr",
     "output_type": "stream",
     "text": [
      "/Users/manaranjanp/anaconda3/envs/mlops/lib/python3.9/site-packages/mlflow/store/artifact/utils/models.py:31: FutureWarning: ``mlflow.tracking.client.MlflowClient.get_latest_versions`` is deprecated since 2.9.0. Model registry stages will be removed in a future major release. To learn more about the deprecation of model registry stages, see our migration guide here: https://mlflow.org/docs/latest/model-registry.html#migrating-from-stages\n",
      "  latest = client.get_latest_versions(name, None if stage is None else [stage])\n"
     ]
    }
   ],
   "source": [
    "model_name = \"userd_car_model\"\n",
    "model_version = \"latest\"\n",
    "\n",
    "loaded_model = mlflow.pyfunc.load_model(model_uri=f\"models:/{model_name}/{model_version}\")"
   ]
  },
  {
   "cell_type": "code",
   "execution_count": 4,
   "id": "12ea97d3-8482-40a1-9a78-ea5af239a188",
   "metadata": {},
   "outputs": [
    {
     "data": {
      "text/plain": [
       "mlflow.pyfunc.loaded_model:\n",
       "  artifact_path: usedcarmodel\n",
       "  flavor: mlflow.sklearn\n",
       "  run_id: c108557530b24ad2894964dae4cde86d"
      ]
     },
     "execution_count": 4,
     "metadata": {},
     "output_type": "execute_result"
    }
   ],
   "source": [
    "loaded_model"
   ]
  },
  {
   "cell_type": "code",
   "execution_count": 7,
   "id": "1480a2e5-c0d5-4f1d-84d1-9d169f5355cd",
   "metadata": {},
   "outputs": [],
   "source": [
    "x_columns = ['KM_Driven', 'Fuel_Type', 'age',\n",
    "              'Transmission', 'Owner_Type', 'Seats',\n",
    "              'make', 'mileage_new', 'engine_new', 'model',\n",
    "              'power_new', 'Location']"
   ]
  },
  {
   "cell_type": "code",
   "execution_count": 6,
   "id": "fdf7c09b-0dc3-4bf4-9cea-e7ad1abb62d9",
   "metadata": {},
   "outputs": [],
   "source": [
    "test_df = pd.read_parquet(\"https://raw.githubusercontent.com/manaranjanp/MLOpsDemo/main/datasets/test.parquet\")"
   ]
  },
  {
   "cell_type": "markdown",
   "id": "1486a10c-40a7-467c-a94b-0b339bca743f",
   "metadata": {},
   "source": [
    "### Load and Make Predictions"
   ]
  },
  {
   "cell_type": "code",
   "execution_count": 8,
   "id": "13ec8c19-ff57-43d6-8714-8bb8c23f6a48",
   "metadata": {},
   "outputs": [
    {
     "data": {
      "text/html": [
       "<div>\n",
       "<style scoped>\n",
       "    .dataframe tbody tr th:only-of-type {\n",
       "        vertical-align: middle;\n",
       "    }\n",
       "\n",
       "    .dataframe tbody tr th {\n",
       "        vertical-align: top;\n",
       "    }\n",
       "\n",
       "    .dataframe thead th {\n",
       "        text-align: right;\n",
       "    }\n",
       "</style>\n",
       "<table border=\"1\" class=\"dataframe\">\n",
       "  <thead>\n",
       "    <tr style=\"text-align: right;\">\n",
       "      <th></th>\n",
       "      <th>KM_Driven</th>\n",
       "      <th>Fuel_Type</th>\n",
       "      <th>age</th>\n",
       "      <th>Transmission</th>\n",
       "      <th>Owner_Type</th>\n",
       "      <th>Seats</th>\n",
       "      <th>make</th>\n",
       "      <th>mileage_new</th>\n",
       "      <th>engine_new</th>\n",
       "      <th>model</th>\n",
       "      <th>power_new</th>\n",
       "      <th>Location</th>\n",
       "      <th>actual_price</th>\n",
       "      <th>predicted_price</th>\n",
       "    </tr>\n",
       "  </thead>\n",
       "  <tbody>\n",
       "    <tr>\n",
       "      <th>1588</th>\n",
       "      <td>75</td>\n",
       "      <td>Diesel</td>\n",
       "      <td>9</td>\n",
       "      <td>Manual</td>\n",
       "      <td>Second</td>\n",
       "      <td>5.0</td>\n",
       "      <td>maruti</td>\n",
       "      <td>21.10</td>\n",
       "      <td>1248</td>\n",
       "      <td>ritz</td>\n",
       "      <td>73.90</td>\n",
       "      <td>Mumbai</td>\n",
       "      <td>2.80</td>\n",
       "      <td>2.738555</td>\n",
       "    </tr>\n",
       "    <tr>\n",
       "      <th>1889</th>\n",
       "      <td>74</td>\n",
       "      <td>Diesel</td>\n",
       "      <td>6</td>\n",
       "      <td>Manual</td>\n",
       "      <td>First</td>\n",
       "      <td>5.0</td>\n",
       "      <td>honda</td>\n",
       "      <td>25.80</td>\n",
       "      <td>1498</td>\n",
       "      <td>amaze</td>\n",
       "      <td>98.60</td>\n",
       "      <td>Hyderabad</td>\n",
       "      <td>5.40</td>\n",
       "      <td>5.210303</td>\n",
       "    </tr>\n",
       "    <tr>\n",
       "      <th>845</th>\n",
       "      <td>21</td>\n",
       "      <td>Petrol</td>\n",
       "      <td>7</td>\n",
       "      <td>Automatic</td>\n",
       "      <td>First</td>\n",
       "      <td>5.0</td>\n",
       "      <td>hyundai</td>\n",
       "      <td>16.95</td>\n",
       "      <td>1197</td>\n",
       "      <td>i10</td>\n",
       "      <td>78.90</td>\n",
       "      <td>Chennai</td>\n",
       "      <td>3.96</td>\n",
       "      <td>4.124354</td>\n",
       "    </tr>\n",
       "    <tr>\n",
       "      <th>362</th>\n",
       "      <td>35</td>\n",
       "      <td>Petrol</td>\n",
       "      <td>9</td>\n",
       "      <td>Manual</td>\n",
       "      <td>First</td>\n",
       "      <td>4.0</td>\n",
       "      <td>tata</td>\n",
       "      <td>25.40</td>\n",
       "      <td>624</td>\n",
       "      <td>nano</td>\n",
       "      <td>37.48</td>\n",
       "      <td>Chennai</td>\n",
       "      <td>1.60</td>\n",
       "      <td>0.857570</td>\n",
       "    </tr>\n",
       "  </tbody>\n",
       "</table>\n",
       "</div>"
      ],
      "text/plain": [
       "      KM_Driven Fuel_Type  age Transmission Owner_Type  Seats     make  \\\n",
       "1588         75    Diesel    9       Manual     Second    5.0   maruti   \n",
       "1889         74    Diesel    6       Manual      First    5.0    honda   \n",
       "845          21    Petrol    7    Automatic      First    5.0  hyundai   \n",
       "362          35    Petrol    9       Manual      First    4.0     tata   \n",
       "\n",
       "      mileage_new  engine_new  model  power_new   Location  actual_price  \\\n",
       "1588        21.10        1248   ritz      73.90     Mumbai          2.80   \n",
       "1889        25.80        1498  amaze      98.60  Hyderabad          5.40   \n",
       "845         16.95        1197    i10      78.90    Chennai          3.96   \n",
       "362         25.40         624   nano      37.48    Chennai          1.60   \n",
       "\n",
       "      predicted_price  \n",
       "1588         2.738555  \n",
       "1889         5.210303  \n",
       "845          4.124354  \n",
       "362          0.857570  "
      ]
     },
     "execution_count": 8,
     "metadata": {},
     "output_type": "execute_result"
    }
   ],
   "source": [
    "predictions = loaded_model.predict(test_df[x_columns])\n",
    "\n",
    "\n",
    "result = pd.DataFrame(test_df, columns=x_columns)\n",
    "result[\"actual_price\"] = test_df['Price']\n",
    "result[\"predicted_price\"] = predictions\n",
    "\n",
    "result[:4]"
   ]
  },
  {
   "cell_type": "code",
   "execution_count": null,
   "id": "b5755146-1684-4595-892e-ceb96b868851",
   "metadata": {},
   "outputs": [],
   "source": []
  }
 ],
 "metadata": {
  "kernelspec": {
   "display_name": "Python 3 (ipykernel)",
   "language": "python",
   "name": "python3"
  },
  "language_info": {
   "codemirror_mode": {
    "name": "ipython",
    "version": 3
   },
   "file_extension": ".py",
   "mimetype": "text/x-python",
   "name": "python",
   "nbconvert_exporter": "python",
   "pygments_lexer": "ipython3",
   "version": "3.9.20"
  }
 },
 "nbformat": 4,
 "nbformat_minor": 5
}
