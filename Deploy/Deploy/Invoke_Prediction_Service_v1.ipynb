{
  "cells": [
    {
      "cell_type": "markdown",
      "id": "93982cde",
      "metadata": {
        "id": "93982cde"
      },
      "source": [
        "# Invoking the Prediction Service\n",
        "\n",
        "**Author:** Manaranjan Pradhan</br>\n",
        "**Email ID:** manaranjan@gmail.com</br>\n",
        "**LinkedIn:** https://www.linkedin.com/in/manaranjanpradhan/</br>\n",
        "**Website:** www.manaranjanp.com\n",
        "\n",
        "\n",
        "## Prepare the data"
      ]
    },
    {
      "cell_type": "code",
      "execution_count": 1,
      "id": "4ffb8c24",
      "metadata": {
        "id": "4ffb8c24"
      },
      "outputs": [],
      "source": [
        "import requests, json"
      ]
    },
    {
      "cell_type": "code",
      "execution_count": 17,
      "id": "8d0821ad",
      "metadata": {
        "id": "8d0821ad"
      },
      "outputs": [],
      "source": [
        "data = \"\"\"{ \"age\": 2,\n",
        "            \"KM_Driven\": 5,\n",
        "            \"Fuel_Type\": \"Petrol\",\n",
        "            \"Transmission\": \"Manual\",\n",
        "            \"Owner_Type\": \"First\",\n",
        "            \"Seats\": 5,\n",
        "            \"make\": \"maruti\",\n",
        "            \"mileage\": 16,\n",
        "            \"engine\": 1000,\n",
        "            \"power\": 90,\n",
        "            \"Location\": \"Bangalore\"\n",
        "          }\n",
        "         \"\"\""
      ]
    },
    {
      "cell_type": "code",
      "execution_count": 18,
      "id": "64a202ba",
      "metadata": {
        "id": "64a202ba"
      },
      "outputs": [],
      "source": [
        "json_data = data.replace('\\n', '').replace(' ','')"
      ]
    },
    {
      "cell_type": "code",
      "execution_count": 19,
      "id": "7181d899",
      "metadata": {
        "colab": {
          "base_uri": "https://localhost:8080/",
          "height": 52
        },
        "id": "7181d899",
        "outputId": "b75d6a60-2b49-4fb5-b1ad-9f883053d4f7"
      },
      "outputs": [
        {
          "output_type": "execute_result",
          "data": {
            "text/plain": [
              "'{\"age\":2,\"KM_Driven\":5,\"Fuel_Type\":\"Petrol\",\"Transmission\":\"Manual\",\"Owner_Type\":\"First\",\"Seats\":5,\"make\":\"maruti\",\"mileage\":16,\"engine\":1000,\"power\":90,\"Location\":\"Bangalore\"}'"
            ],
            "application/vnd.google.colaboratory.intrinsic+json": {
              "type": "string"
            }
          },
          "metadata": {},
          "execution_count": 19
        }
      ],
      "source": [
        "json_data"
      ]
    },
    {
      "cell_type": "code",
      "execution_count": 44,
      "id": "cbfe3b4a",
      "metadata": {
        "id": "cbfe3b4a"
      },
      "outputs": [],
      "source": [
        "response = requests.post('https://95e4-34-139-99-78.ngrok-free.app/predict', data=json_data)"
      ]
    },
    {
      "cell_type": "code",
      "execution_count": 45,
      "id": "f8cf07c9",
      "metadata": {
        "colab": {
          "base_uri": "https://localhost:8080/"
        },
        "id": "f8cf07c9",
        "outputId": "ea19b025-a6a6-4f33-f92f-f9f3b4da1ddb"
      },
      "outputs": [
        {
          "output_type": "stream",
          "name": "stdout",
          "text": [
            "['Estimated Car Price: INR 6.82 Lakhs']\n"
          ]
        }
      ],
      "source": [
        "print(response.json())"
      ]
    },
    {
      "cell_type": "code",
      "execution_count": null,
      "id": "d939bb14",
      "metadata": {
        "id": "d939bb14"
      },
      "outputs": [],
      "source": []
    }
  ],
  "metadata": {
    "kernelspec": {
      "display_name": "Python 3 (ipykernel)",
      "language": "python",
      "name": "python3"
    },
    "language_info": {
      "codemirror_mode": {
        "name": "ipython",
        "version": 3
      },
      "file_extension": ".py",
      "mimetype": "text/x-python",
      "name": "python",
      "nbconvert_exporter": "python",
      "pygments_lexer": "ipython3",
      "version": "3.10.9"
    },
    "colab": {
      "provenance": []
    }
  },
  "nbformat": 4,
  "nbformat_minor": 5
}